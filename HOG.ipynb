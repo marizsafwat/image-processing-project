{
 "cells": [
  {
   "cell_type": "markdown",
   "metadata": {},
   "source": [
    "# Libraries"
   ]
  },
  {
   "cell_type": "code",
   "execution_count": null,
   "metadata": {},
   "outputs": [],
   "source": [
    "import matplotlib.image as mpimg\n",
    "import matplotlib.pyplot as plt\n",
    "import numpy as np\n",
    "import cv2\n",
    "import glob\n",
    "%matplotlib inline"
   ]
  },
  {
   "cell_type": "markdown",
   "metadata": {},
   "source": [
    "# Helper Functions"
   ]
  },
  {
   "cell_type": "code",
   "execution_count": null,
   "metadata": {},
   "outputs": [],
   "source": [
    "# Define a function to return some characteristics of the dataset\n",
    "def data_look(car_list, notcar_list):\n",
    "    data_dict = {}\n",
    "    # Define a key in data_dict \"n_cars\" and store the number of car images\n",
    "    data_dict[\"n_cars\"] = len(car_list)\n",
    "    # Define a key \"n_notcars\" and store the number of notcar images\n",
    "    data_dict[\"n_notcars\"] = len(notcar_list)\n",
    "    # Read in a test image, either car or notcar\n",
    "    car_img = mpimg.imread(car_list[0])\n",
    "    # Define a key \"image_shape\" and store the test image shape 3-tuple\n",
    "    data_dict[\"image_shape\"] = car_img.shape\n",
    "    # Define a key \"data_type\" and store the data type of the test image.\n",
    "    data_dict[\"data_type\"] = car_img.dtype\n",
    "    # Return data_dict\n",
    "    return data_dict\n"
   ]
  },
  {
   "cell_type": "code",
   "execution_count": null,
   "metadata": {},
   "outputs": [],
   "source": [
    "def visualize_images(input_images, num_cols, figure_name, cmap=None):\n",
    "    \"Shows input images by stacking them in num_cols columns\"\n",
    "    fig, axes = plt.subplots(\n",
    "        (int)((len(input_images) + 1) / num_cols), num_cols, figsize=(24, 20))\n",
    "\n",
    "    fig = plt.gcf()\n",
    "    fig.canvas.set_window_title(figure_name)\n",
    "\n",
    "    print(figure_name)\n",
    "\n",
    "    for ax, image in zip(axes.flat, input_images):\n",
    "        if(cmap == \"gray\" or cmap == 'hot'):\n",
    "            ax.imshow(image, cmap=cmap)\n",
    "        elif(image.shape[2] == 1):\n",
    "            ax.imshow(image[:, :, 0], cmap=cmap)\n",
    "        else:\n",
    "            ax.imshow(image, cmap=cmap)\n",
    "\n",
    "    plt.show()\n"
   ]
  },
  {
   "cell_type": "code",
   "execution_count": null,
   "metadata": {},
   "outputs": [],
   "source": [
    "def convert_color(img, conv='RGB2YCrCb'):\n",
    "    \"\"\"\n",
    "    Convert the image from one color space to the other\n",
    "    \"\"\"\n",
    "    if conv == 'RGB2YCrCb':\n",
    "        return cv2.cvtColor(img, cv2.COLOR_RGB2YCrCb)\n",
    "    if conv == 'BGR2YCrCb':\n",
    "        return cv2.cvtColor(img, cv2.COLOR_BGR2YCrCb)\n",
    "    if conv == 'RGB2LUV':\n",
    "        return cv2.cvtColor(img, cv2.COLOR_RGB2LUV)\n",
    "    if conv == 'RGB2HLS':\n",
    "        return cv2.cvtColor(img, cv2.COLOR_RGB2HLS)\n",
    "    if conv == 'RGB2HSV':\n",
    "        return cv2.cvtColor(img, cv2.COLOR_RGB2HSV)\n",
    "    if conv == 'Gray':\n",
    "        return cv2.cvtColor(img, cv2.COLOR_RGB2GRAY)\n",
    "    if conv == 'RGB2YUV':\n",
    "        return cv2.cvtColor(img, cv2.COLOR_RGB2YUV)\n"
   ]
  },
  {
   "cell_type": "markdown",
   "metadata": {},
   "source": [
    "# Load Data Set"
   ]
  },
  {
   "cell_type": "code",
   "execution_count": null,
   "metadata": {},
   "outputs": [],
   "source": [
    "vehicles_dir = './vehicles/'\n",
    "non_vehicles_dir = './non-vehicles/'\n",
    "\n",
    "# images are divided up into vehicles and non-vehicles\n",
    "cars = []\n",
    "notcars = []\n",
    "\n",
    "# Read vehicle images\n",
    "images = glob.iglob(vehicles_dir + '/**/*.png', recursive=True)\n",
    "\n",
    "for image in images:\n",
    "    cars.append(image)\n",
    "\n",
    "# Read non-vehicle images\n",
    "images = glob.iglob(non_vehicles_dir + '/**/*.png', recursive=True)\n",
    "\n",
    "for image in images:\n",
    "    notcars.append(image)\n",
    "\n",
    "#data_info = data_look(cars, notcars)  # TO SHOW THE DATA OF DATA SET\n",
    "\n",
    "print('Your function returned a count of',\n",
    "      data_info[\"n_cars\"], ' cars and',\n",
    "      data_info[\"n_notcars\"], ' non-cars')\n",
    "print('of size: ', data_info[\"image_shape\"], ' and data type:',\n",
    "      data_info[\"data_type\"])\n"
   ]
  },
  {
   "cell_type": "markdown",
   "metadata": {},
   "source": [
    "# HOG features"
   ]
  },
  {
   "cell_type": "code",
   "execution_count": null,
   "metadata": {},
   "outputs": [],
   "source": [
    "from skimage.feature import hog\n",
    "\n",
    "\n",
    "def get_hog_features(img, orient, pix_per_cell, cell_per_block,\n",
    "                     vis=False, feature_vec=True):\n",
    "    \"\"\"\n",
    "    Return the hog features of the given input image\n",
    "    Call with two outputs if vis==True\"\"\"\n",
    "    # THE RETURN HOG FEATURES & HOG IMAGE \n",
    "    if vis == True:\n",
    "        features, hog_image = hog(img, orientations=orient, pixels_per_cell=(pix_per_cell, pix_per_cell),\n",
    "                                  cells_per_block=(cell_per_block, cell_per_block), transform_sqrt=True,\n",
    "                                  visualize=vis, feature_vector=feature_vec)\n",
    "        return features, hog_image\n",
    "    # Otherwise call with one output\n",
    "     # THE RETURN HOG FEATURES ONLY\n",
    "    else:\n",
    "        features = hog(img, orientations=orient, pixels_per_cell=(pix_per_cell, pix_per_cell),\n",
    "                       cells_per_block=( cell_per_block, cell_per_block), transform_sqrt=True,\n",
    "                       visualize=vis, feature_vector=feature_vec)\n",
    "        return features\n"
   ]
  },
  {
   "cell_type": "code",
   "execution_count": null,
   "metadata": {},
   "outputs": [],
   "source": [
    "# Define a function to extract features from a list of image\n",
    "def extract_features(imgs, cspace='RGB', orient=9,\n",
    "                     pix_per_cell=8, cell_per_block=2, hog_feat=True):\n",
    "    # Create a list to append feature vectors to\n",
    "    features = []\n",
    "    # Iterate through the list of images\n",
    "    for file in imgs:\n",
    "        file_features = []\n",
    "        # Read in each one by one\n",
    "        image = mpimg.imread(file)\n",
    "        image = (image * 255).astype(np.uint8)\n",
    "        # apply color conversion if other than 'RGB'\n",
    "        if cspace != 'RGB':\n",
    "            if cspace == 'HSV':\n",
    "                feature_image = cv2.cvtColor(image, cv2.COLOR_RGB2HSV)\n",
    "            elif cspace == 'LUV':\n",
    "                feature_image = cv2.cvtColor(image, cv2.COLOR_RGB2LUV)\n",
    "            elif cspace == 'HLS':\n",
    "                feature_image = cv2.cvtColor(image, cv2.COLOR_RGB2HLS)\n",
    "            elif cspace == 'YUV':\n",
    "                feature_image = cv2.cvtColor(image, cv2.COLOR_RGB2YUV)\n",
    "            elif cspace == 'YCrCb':\n",
    "                feature_image = cv2.cvtColor(image, cv2.COLOR_RGB2YCrCb)\n",
    "        else:\n",
    "            feature_image = np.copy(image)\n",
    "\n",
    "        if hog_feat == True:\n",
    "            # Call get_hog_features() with vis=False, feature_vec=True FOR each channel \n",
    "            hog_features = []\n",
    "            for channel in range(feature_image.shape[2]):\n",
    "                hog_features.append(get_hog_features(feature_image[:, :, channel],\n",
    "                                    orient, pix_per_cell, cell_per_block,\n",
    "                                    vis=False, feature_vec=True))\n",
    "            hog_features = np.ravel(hog_features)\n",
    "\n",
    "            # Append the new feature vector to the features list\n",
    "            file_features.append(hog_features)\n",
    "        features.append(file_features) # in all features Lisr\n",
    "    # Return list of feature vectors\n",
    "    return features\n"
   ]
  },
  {
   "cell_type": "markdown",
   "metadata": {},
   "source": [
    "# Training"
   ]
  },
  {
   "cell_type": "code",
   "execution_count": null,
   "metadata": {},
   "outputs": [],
   "source": [
    "import time\n",
    "from sklearn.svm import LinearSVC\n",
    "from sklearn.model_selection import train_test_split\n",
    "from sklearn.preprocessing import StandardScaler\n",
    "\n",
    "colorspace = 'YUV'  # Can be RGB, HSV, LUV, HLS, YUV, YCrCb\n",
    "orient = 9  # Length of the vector [ 9 angles ]\n",
    "pix_per_cell = 8  # each cell 8 * 8\n",
    "cell_per_block = 2  # Block 2*2\n",
    "t = time.time()\n",
    "\n",
    "car_features = extract_features(cars, cspace=colorspace, orient=orient,\n",
    "                                pix_per_cell=pix_per_cell, cell_per_block=cell_per_block\n",
    "                                )\n",
    "notcar_features = extract_features(notcars, cspace=colorspace, orient=orient,\n",
    "                                   pix_per_cell=pix_per_cell, cell_per_block=cell_per_block\n",
    "                                   )\n",
    "t2 = time.time()\n",
    "print(round(t2-t, 2), 'Seconds to extract HOG features...')\n",
    "# Create an array stack of feature vectors\n",
    "X = np.vstack((car_features, notcar_features)).astype(np.float64)\n",
    "\n",
    "# Fit a per-column scaler\n",
    "X_scaler = StandardScaler().fit(X)\n",
    "# Apply the scaler to X\n",
    "scaled_X = X_scaler.transform(X)  # Standarization to the features & Scaling\n",
    "\n",
    "# Define the labels vector\n",
    "y = np.hstack((np.ones(len(car_features)), np.zeros(len(notcar_features))))\n",
    "\n",
    "print(len(y))  # THE TARGET [ONES FOR CARS ] , [ZEROS FOR NON CARS ]\n",
    "\n",
    "# Split up data into randomized training and test sets\n",
    "rand_state = np.random.randint(0, 100)\n",
    "X_train, X_test, y_train, y_test = train_test_split(\n",
    "    scaled_X, y, test_size=0.15, random_state=rand_state)  # sikit learn / open cv [16000 pics ]\n",
    "#[0.85 trainig] a5tyar aldata random\n",
    "\n",
    "print('Using:', orient, 'orientations', pix_per_cell,\n",
    "      'pixels per cell and', cell_per_block, 'cells per block')\n",
    "print('Feature vector length:', len(X_train[0]))\n",
    "\n",
    "# Use a linear SVC X_scaler\n",
    "svc = LinearSVC()\n",
    "# Check the training time for the SVC\n",
    "t = time.time()\n",
    "svc.fit(X_train, y_train)\n",
    "t2 = time.time()\n",
    "print(round(t2-t, 2), 'Seconds to train SVC...')\n"
   ]
  },
  {
   "cell_type": "markdown",
   "metadata": {},
   "source": [
    "# Test The Accuracuy"
   ]
  },
  {
   "cell_type": "code",
   "execution_count": null,
   "metadata": {},
   "outputs": [],
   "source": [
    "print('Test Accuracy of SVC = ', round(svc.score(X_test, y_test), 4)) # 4 decimal after point\n",
    "# Check the prediction time for a single sample\n",
    "t=time.time()\n",
    "n_predict = 10\n",
    "print('My SVC predicts: ', svc.predict(X_test[0:n_predict])) ## TEST 10 IMAGES \n",
    "print('For these',n_predict, 'labels: ', y_test[0:n_predict])\n",
    "t2 = time.time()\n",
    "print(round(t2-t, 5), 'Seconds to predict', n_predict,'labels with SVC')"
   ]
  },
  {
   "cell_type": "markdown",
   "metadata": {},
   "source": [
    "# Save The pickle file"
   ]
  },
  {
   "cell_type": "code",
   "execution_count": null,
   "metadata": {},
   "outputs": [],
   "source": [
    "import pickle\n",
    "\n",
    "#Pickle the data as it takes a lot of time to generate it\n",
    "\n",
    "import os\n",
    "data_file = './svc_pickle.p'\n",
    "\n",
    "if not os.path.isfile(data_file):\n",
    "    with open(data_file, 'wb') as pfile:\n",
    "        pickle.dump(\n",
    "            {\n",
    "                'svc': svc,\n",
    "                'scaler': X_scaler,\n",
    "                'orient': orient,\n",
    "                'pix_per_cell': pix_per_cell,\n",
    "                'cell_per_block': cell_per_block,\n",
    "            },\n",
    "            pfile, pickle.HIGHEST_PROTOCOL)\n",
    "\n",
    "print('Data saved in pickle file')\n"
   ]
  },
  {
   "cell_type": "markdown",
   "metadata": {},
   "source": [
    "# Reading images"
   ]
  },
  {
   "cell_type": "code",
   "execution_count": null,
   "metadata": {},
   "outputs": [],
   "source": [
    "#Read cars and not-cars images\n",
    "\n",
    "#Data folders\n",
    "test_images_dir = './test_images/'\n",
    "\n",
    "# images are divided up into vehicles and non-vehicles\n",
    "test_images = []\n",
    "\n",
    "images = glob.glob(test_images_dir + '*.jpg')\n",
    "\n",
    "for image in images:\n",
    "    test_images.append(mpimg.imread(image))\n"
   ]
  },
  {
   "cell_type": "markdown",
   "metadata": {},
   "source": [
    "# Finding windows with cars"
   ]
  },
  {
   "cell_type": "code",
   "execution_count": null,
   "metadata": {},
   "outputs": [],
   "source": [
    "# Define a single function that can extract features using hog sub-sampling and make predictions\n",
    "def find_cars(img, ystart, ystop, scale, svc, X_scaler, orient, pix_per_cell, cell_per_block, vis_bboxes=False):\n",
    "    #print(img.shape)\n",
    "    draw_img = np.copy(img)\n",
    "    #cropping only needed part of picture (that includes cars)\n",
    "    xstart = int(img.shape[1]/5)\n",
    "    xstop = img.shape[1]\n",
    "    img_tosearch = img[ystart:ystop, xstart:xstop, :]\n",
    "    ctrans_tosearch = convert_color(img_tosearch, conv='RGB2YUV')\n",
    "    if scale != 1: #decrease picture size according to\n",
    "        imshape = ctrans_tosearch.shape\n",
    "        ctrans_tosearch = cv2.resize(\n",
    "            ctrans_tosearch, (int(imshape[1]/scale), int(imshape[0]/scale)))  #resize(img,(width,height))\n",
    "        \n",
    "    ch1 = ctrans_tosearch[:, :, 0]\n",
    "    ch2 = ctrans_tosearch[:, :, 1]\n",
    "    ch3 = ctrans_tosearch[:, :, 2]\n",
    "   \n",
    "    # Define blocks and steps as above #(height,width,channels) \n",
    "    nxblocks = (ch1.shape[1] // pix_per_cell) - cell_per_block + 1 # (width //8)-2+1  = 127\n",
    "    nyblocks = (ch1.shape[0] // pix_per_cell) - cell_per_block + 1 # (height //8)-2+1 =15\n",
    "    nfeat_per_block = orient*cell_per_block**2\n",
    "\n",
    "    # 64 was the orginal sampling rate, with 8 cells and 8 pix per cell\n",
    "    window = 64\n",
    "    nblocks_per_window = (window // pix_per_cell) - cell_per_block + 1 #7 blocks per window \n",
    "\n",
    "    # Instead of overlap, define how many cells to step\n",
    "    # 2 means 25% of the 8 pixels ==> 75% overlap with the next window vertiaccly & horizontally\n",
    "    cells_per_step = 2  \n",
    "    \n",
    "    nxsteps = (nxblocks - nblocks_per_window) // cells_per_step\n",
    "    nysteps = (nyblocks - nblocks_per_window) // cells_per_step\n",
    "\n",
    "    # Compute individual channel HOG features for the entire image\n",
    "    hog1 = get_hog_features(ch1, orient, pix_per_cell,\n",
    "                            cell_per_block, feature_vec=False)\n",
    "    hog2 = get_hog_features(ch2, orient, pix_per_cell,\n",
    "                            cell_per_block, feature_vec=False)\n",
    "    hog3 = get_hog_features(ch3, orient, pix_per_cell,\n",
    "                            cell_per_block, feature_vec=False)\n",
    "    rectangles = []\n",
    "\n",
    "    #The find_cars only has to extract hog features once, for each of a small set of predetermined window sizes\n",
    "    #  (defined by a scale argument), and then can be sub-sampled to get all of its overlaying windows.\n",
    "    #  Each window is defined by a scaling factor that impacts the window size. The scale factor can be set on different \n",
    "    # regions of the image (e.g. small near the horizon, larger in the center).\n",
    "\n",
    "    for xb in range(nxsteps):\n",
    "        for yb in range(nysteps):\n",
    "            ypos = yb*cells_per_step\n",
    "            xpos = xb*cells_per_step\n",
    "\n",
    "            # Extract HOG for this patch\n",
    "            hog_feat1 = hog1[ypos:ypos+nblocks_per_window,\n",
    "                             xpos:xpos+nblocks_per_window].ravel()\n",
    "            hog_feat2 = hog2[ypos:ypos+nblocks_per_window,\n",
    "                             xpos:xpos+nblocks_per_window].ravel()\n",
    "            hog_feat3 = hog3[ypos:ypos+nblocks_per_window,\n",
    "                             xpos:xpos+nblocks_per_window].ravel()\n",
    "            hog_features = np.hstack(\n",
    "                (hog_feat1, hog_feat2, hog_feat3)).reshape(1, -1)\n",
    "#             hog_features = np.hstack((hog_feat1))\n",
    "\n",
    "            xleft = xpos*pix_per_cell\n",
    "            ytop = ypos*pix_per_cell\n",
    "            \n",
    "            test_features = X_scaler.transform(hog_features)\n",
    "            #test_features = X_scaler.transform(np.hstack((shape_feat, hist_feat)).reshape(1, -1))\n",
    "            test_prediction = svc.predict(test_features)\n",
    "\n",
    "            if test_prediction == 1 or vis_bboxes == True:\n",
    "                xbox_left = int(xleft*scale)\n",
    "                ytop_draw = int(ytop*scale)\n",
    "                win_draw = int(window*scale)\n",
    "                rectangles.append(((xbox_left+xstart, ytop_draw+ystart),\n",
    "                                  (xbox_left+win_draw+xstart, ytop_draw+win_draw+ystart))) #each rectangle is in form ((x1,y1),(x2,y2))\n",
    "    return rectangles\n"
   ]
  },
  {
   "cell_type": "markdown",
   "metadata": {},
   "source": [
    "# Detect all windows that includes cars"
   ]
  },
  {
   "cell_type": "code",
   "execution_count": null,
   "metadata": {},
   "outputs": [],
   "source": [
    "def get_rectangles(image, scales=[1, 1.5, 2, 2.5, 3],\n",
    "                   ystarts=[400, 400, 450, 450, 460],\n",
    "                   ystops=[528, 550, 620, 650, 700]):\n",
    "    out_rectangles = []\n",
    "    for scale, ystart, ystop in zip(scales, ystarts, ystops):\n",
    "        rectangles = find_cars(image, ystart, ystop, scale,\n",
    "                               svc, X_scaler, orient, pix_per_cell, cell_per_block)\n",
    "        if len(rectangles) > 0:\n",
    "            out_rectangles.append(rectangles)  \n",
    "    out_rectangles = [item for sublist in out_rectangles for item in sublist]\n",
    "    return out_rectangles\n"
   ]
  },
  {
   "cell_type": "markdown",
   "metadata": {},
   "source": [
    "# Draw all boxes\n"
   ]
  },
  {
   "cell_type": "code",
   "execution_count": null,
   "metadata": {},
   "outputs": [],
   "source": [
    "def draw_boxes(img, bboxes, color=(0, 0, 255), thick=6):\n",
    "    # Make a copy of the image\n",
    "    imcopy = np.copy(img)\n",
    "    random_color = False\n",
    "    # Iterate through the bounding boxes\n",
    "    for bbox in bboxes:\n",
    "        if color == 'random' or random_color:\n",
    "            color = (np.random.randint(0, 255), np.random.randint(\n",
    "                0, 255), np.random.randint(0, 255))\n",
    "            random_color = True\n",
    "        # Draw a rectangle given bbox coordinates\n",
    "        cv2.rectangle(imcopy, bbox[0], bbox[1], color, thick) #cv2.rectangle(image_to_draw_on, (x1, y1), (x2, y2), color, thick)\n",
    "    # Return the image copy with boxes drawn\n",
    "    return imcopy\n"
   ]
  },
  {
   "cell_type": "markdown",
   "metadata": {},
   "source": [
    "# Visualizing windows with different scales"
   ]
  },
  {
   "cell_type": "code",
   "execution_count": null,
   "metadata": {},
   "outputs": [],
   "source": [
    "image = test_images[0]\n",
    "scales=[1, 1.5, 2, 2.5, 3]\n",
    "ystarts=[400, 400, 450, 450, 460]\n",
    "ystops=[528, 550, 620, 650, 700]\n",
    "out_rectangles = []\n",
    "scale_images = []\n",
    "imcopy = np.copy(image)\n",
    "scale_images.append(imcopy)\n",
    "for scale, ystart, ystop in zip(scales, ystarts, ystops):\n",
    "    rectangles = find_cars(image, ystart, ystop, scale, svc, X_scaler,\n",
    "                            orient, pix_per_cell, cell_per_block, vis_bboxes=True) #function is called 5 times for each image \n",
    "    if len(rectangles) > 0:\n",
    "        out_rectangles.append(rectangles)\n",
    "    out_rectangles = [item for sublist in out_rectangles for item in sublist]\n",
    "    scale_image= draw_boxes(imcopy,out_rectangles,color='random',thick=3)\n",
    "    scale_images.append(scale_image)\n",
    "    out_rectangles=[]\n",
    "visualize_images(scale_images,2,\"Windows with different scales\")"
   ]
  },
  {
   "cell_type": "markdown",
   "metadata": {},
   "source": [
    "# Add heat to areas with most detections"
   ]
  },
  {
   "cell_type": "code",
   "execution_count": null,
   "metadata": {},
   "outputs": [],
   "source": [
    "def add_heat(heatmap, bbox_list):\n",
    "    # bbox_list contains the boxes which are detected to have vehicles inside\n",
    "    for box in bbox_list:\n",
    "        # Add += 1 for all pixels inside each bbox\n",
    "        # Assuming each \"box\" takes the form ((x1, y1), (x2, y2))\n",
    "        #heatmap[y1:y2,x1:x2] +=1 \n",
    "        heatmap[box[0][1]:box[1][1], box[0][0]:box[1][0]] += 1 #y1=box[0][1],y2=bos[1][1],x1=box[0][0],x2=box[1][0]\n",
    "    # Return updated heatmap\n",
    "     \n",
    "    return heatmap\n"
   ]
  },
  {
   "cell_type": "code",
   "execution_count": null,
   "metadata": {},
   "outputs": [],
   "source": [
    "def apply_threshold(heatmap, threshold):\n",
    "    # Zero out pixels below the threshold\n",
    "    heatmap[heatmap <= threshold] = 0\n",
    "    # Return thresholded map\n",
    "    return heatmap\n"
   ]
  },
  {
   "cell_type": "markdown",
   "metadata": {},
   "source": [
    "# Draw boxes with highest detections"
   ]
  },
  {
   "cell_type": "code",
   "execution_count": null,
   "metadata": {},
   "outputs": [],
   "source": [
    "def draw_labeled_bboxes(img, labels):\n",
    "    # Iterate through all detected cars\n",
    "    img_copy = np.copy(img)\n",
    "    result_rectangles = []\n",
    "    label_image = labels[0]\n",
    "    for car_number in range(1, labels[1]+1):\n",
    "        # Find pixels with each car_number label value\n",
    "        nonzero = (labels[0] == car_number).nonzero()\n",
    "        # Identify x and y values of those pixels\n",
    "        nonzeroy = np.array(nonzero[0])\n",
    "        nonzerox = np.array(nonzero[1])\n",
    "        # Define a bounding box based on min/max x and y\n",
    "        bbox = ((np.min(nonzerox), np.min(nonzeroy)),\n",
    "                (np.max(nonzerox), np.max(nonzeroy)))\n",
    "        area = (bbox[1][1] - bbox[0][1]) * (bbox[1][0] - bbox[0][0])\n",
    "        if area > 40 * 40:\n",
    "            result_rectangles.append(bbox)\n",
    "            # Draw the box on the image\n",
    "            cv2.rectangle(img_copy, bbox[0], bbox[1],(185, 76, 255), 6)\n",
    "    # Return the image\n",
    "    return result_rectangles, img_copy, label_image\n"
   ]
  },
  {
   "cell_type": "markdown",
   "metadata": {},
   "source": [
    "# Process images"
   ]
  },
  {
   "cell_type": "code",
   "execution_count": null,
   "metadata": {},
   "outputs": [],
   "source": [
    "from scipy.ndimage.measurements import label\n",
    "\n",
    "result_images = []\n",
    "result_boxes = []\n",
    "heatmap_images = []\n",
    "result_img_all_boxes = []\n",
    "test_image_t=test_images[3]\n",
    "label_images =[]\n",
    "result_row_boxes=[]\n",
    "for test_image in test_images:\n",
    "    rectangles = get_rectangles(test_image)\n",
    "    result_img_all_boxes.append(draw_boxes(\n",
    "        test_image, rectangles, color='random', thick=3))\n",
    "    heatmap_image = np.zeros_like(test_image[:, :, 0]) #make a copy of the test image with all values =0\n",
    "    heatmap_image = add_heat(heatmap_image, rectangles)\n",
    "    heatmap_images.append(heatmap_image)\n",
    "    heatmap_image = apply_threshold(heatmap_image, 2)\n",
    "    labels = label(heatmap_image)\n",
    "    rectangles, result_image,label_image = draw_labeled_bboxes(test_image, labels)\n",
    "    result_boxes.append(rectangles)\n",
    "    result_images.append(result_image)\n",
    "    label_images.append(label_image)\n"
   ]
  },
  {
   "cell_type": "markdown",
   "metadata": {},
   "source": [
    "# Visualize images with all detected boxes"
   ]
  },
  {
   "cell_type": "code",
   "execution_count": null,
   "metadata": {},
   "outputs": [],
   "source": [
    "visualize_images(result_img_all_boxes, 2, \"Result of all detected boxes\")"
   ]
  },
  {
   "cell_type": "markdown",
   "metadata": {},
   "source": [
    "# Visualize areas with most detections"
   ]
  },
  {
   "cell_type": "code",
   "execution_count": null,
   "metadata": {},
   "outputs": [],
   "source": [
    " visualize_images(heatmap_images, 2, \"Heatmap\", cmap=\"hot\")"
   ]
  },
  {
   "cell_type": "markdown",
   "metadata": {},
   "source": [
    "# Visualize labeled images "
   ]
  },
  {
   "cell_type": "code",
   "execution_count": null,
   "metadata": {},
   "outputs": [],
   "source": [
    "visualize_images(label_images, 2, \"Labeled images\", cmap=\"gray\")"
   ]
  },
  {
   "cell_type": "markdown",
   "metadata": {},
   "source": [
    "# Visualize final images"
   ]
  },
  {
   "cell_type": "code",
   "execution_count": null,
   "metadata": {},
   "outputs": [],
   "source": [
    "visualize_images(result_images, 2, \"Final images\")\n"
   ]
  },
  {
   "cell_type": "markdown",
   "metadata": {},
   "source": [
    "# Processing video"
   ]
  },
  {
   "cell_type": "code",
   "execution_count": null,
   "metadata": {},
   "outputs": [],
   "source": [
    "from moviepy.editor import VideoFileClip\n",
    "from IPython.display import HTML\n",
    "import queue\n",
    "\n",
    "\n",
    "class DetectionInfo():\n",
    "    def __init__(self):\n",
    "        self.max_size = 10\n",
    "        self.old_bboxes = queue.Queue(self.max_size)\n",
    "        self.heatmap = np.zeros_like(test_images[0][:, :, 0])\n",
    "\n",
    "    def get_heatmap(self):\n",
    "        self.heatmap = np.zeros_like(test_images[0][:, :, 0])\n",
    "        if self.old_bboxes.qsize() == self.max_size:\n",
    "            for bboxes in list(self.old_bboxes.queue):\n",
    "                self.heatmap = add_heat(self.heatmap, bboxes)\n",
    "                #self.heatmap = apply_threshold(self.heatmap, 2)\n",
    "            self.heatmap = apply_threshold(self.heatmap, 20)\n",
    "        return self.heatmap\n",
    "\n",
    "    def get_labels(self):\n",
    "        return label(self.get_heatmap())\n",
    "\n",
    "    def add_bboxes(self, bboxes):\n",
    "        if len(bboxes) < 1:\n",
    "            return\n",
    "        if self.old_bboxes.qsize() == self.max_size:\n",
    "            self.old_bboxes.get()\n",
    "        self.old_bboxes.put(bboxes)\n"
   ]
  },
  {
   "cell_type": "code",
   "execution_count": null,
   "metadata": {},
   "outputs": [],
   "source": [
    "def find_vehicles(image):\n",
    "    bboxes = get_rectangles(image)\n",
    "    detection_info.add_bboxes(bboxes)\n",
    "    labels = detection_info.get_labels()\n",
    "    if len(labels) == 0:\n",
    "        result_image = image\n",
    "    else:\n",
    "        bboxes, result_image,label_image = draw_labeled_bboxes(image, labels)\n",
    "\n",
    "    return result_image\n"
   ]
  },
  {
   "cell_type": "code",
   "execution_count": null,
   "metadata": {},
   "outputs": [],
   "source": [
    "detection_info = DetectionInfo()\n",
    "detection_info.old_heatmap = np.zeros_like(test_images[0][:, :, 0])\n",
    "Output_video = './output.mp4'\n",
    "Input_video = './project_video.mp4'\n",
    "\n",
    "clip1 = VideoFileClip(Input_video)\n",
    "# This function send frame image & expects color images as a return\n",
    "video_clip = clip1.fl_image(find_vehicles)\n",
    "video_clip.write_videofile(Output_video, audio=False)\n"
   ]
  }
 ],
 "metadata": {
  "interpreter": {
   "hash": "419871fa7383a3fc43056cd37c0e0faac3b2acb0ab5f12a6771dd72033337bd1"
  },
  "kernelspec": {
   "display_name": "Python 3.9.7 ('base')",
   "language": "python",
   "name": "python3"
  },
  "language_info": {
   "codemirror_mode": {
    "name": "ipython",
    "version": 3
   },
   "file_extension": ".py",
   "mimetype": "text/x-python",
   "name": "python",
   "nbconvert_exporter": "python",
   "pygments_lexer": "ipython3",
   "version": "3.9.7"
  },
  "orig_nbformat": 4
 },
 "nbformat": 4,
 "nbformat_minor": 2
}
