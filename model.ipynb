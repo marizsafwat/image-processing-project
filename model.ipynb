{
 "cells": [
  {
   "cell_type": "markdown",
   "metadata": {},
   "source": [
    "# Libraries"
   ]
  },
  {
   "cell_type": "code",
   "execution_count": null,
   "metadata": {},
   "outputs": [],
   "source": [
    "import matplotlib.image as mpimg\n",
    "import matplotlib.pyplot as plt\n",
    "import numpy as np\n",
    "import cv2\n",
    "import glob\n",
    "%matplotlib inline"
   ]
  },
  {
   "cell_type": "code",
   "execution_count": null,
   "metadata": {},
   "outputs": [],
   "source": [
    "vehicles_dir = './vehicles/'\n",
    "non_vehicles_dir = './non-vehicles/'\n",
    "\n",
    "# images are divided up into vehicles and non-vehicles\n",
    "cars = []\n",
    "notcars = []\n",
    "\n",
    "# Read vehicle images\n",
    "images = glob.iglob(vehicles_dir + '/**/*.png', recursive=True)\n",
    "\n",
    "for image in images:\n",
    "    cars.append(image)\n",
    "\n",
    "# Read non-vehicle images\n",
    "images = glob.iglob(non_vehicles_dir + '/**/*.png', recursive=True)\n",
    "\n",
    "for image in images:\n",
    "    notcars.append(image)\n",
    "\n",
    "#data_info = data_look(cars, notcars)  # TO SHOW THE DATA OF DATA SET\n",
    "\n",
    "#print('Your function returned a count of',\n",
    "#      data_info[\"n_cars\"], ' cars and',\n",
    "#      data_info[\"n_notcars\"], ' non-cars')\n",
    "#print('of size: ', data_info[\"image_shape\"], ' and data type:',\n",
    "#      data_info[\"data_type\"])\n"
   ]
  },
  {
   "cell_type": "markdown",
   "metadata": {},
   "source": [
    "# HOG features"
   ]
  },
  {
   "cell_type": "code",
   "execution_count": null,
   "metadata": {},
   "outputs": [],
   "source": [
    "from skimage.feature import hog\n",
    "\n",
    "\n",
    "def get_hog_features(img, orient, pix_per_cell, cell_per_block,\n",
    "                     vis=False, feature_vec=True):\n",
    "    \"\"\"\n",
    "    Return the hog features of the given input image\n",
    "    Call with two outputs if vis==True\"\"\"\n",
    "    # THE RETURN HOG FEATURES & HOG IMAGE \n",
    "    if vis == True:\n",
    "        features, hog_image = hog(img, orientations=orient, pixels_per_cell=(pix_per_cell, pix_per_cell),\n",
    "                                  cells_per_block=(cell_per_block, cell_per_block), transform_sqrt=True,\n",
    "                                  visualize=vis, feature_vector=feature_vec)\n",
    "        return features, hog_image\n",
    "    # Otherwise call with one output\n",
    "     # THE RETURN HOG FEATURES ONLY\n",
    "    else:\n",
    "        features = hog(img, orientations=orient, pixels_per_cell=(pix_per_cell, pix_per_cell),\n",
    "                       cells_per_block=( cell_per_block, cell_per_block), transform_sqrt=True,\n",
    "                       visualize=vis, feature_vector=feature_vec)\n",
    "        return features\n"
   ]
  },
  {
   "cell_type": "code",
   "execution_count": null,
   "metadata": {},
   "outputs": [],
   "source": [
    "# Define a function to extract features from a list of image\n",
    "def extract_features(imgs, cspace='RGB', orient=9,\n",
    "                     pix_per_cell=8, cell_per_block=2, hog_feat=True):\n",
    "    # Create a list to append feature vectors to\n",
    "    features = []\n",
    "    # Iterate through the list of images\n",
    "    for file in imgs:\n",
    "        file_features = []\n",
    "        # Read in each one by one\n",
    "        image = mpimg.imread(file)\n",
    "        image = (image * 255).astype(np.uint8)\n",
    "        # apply color conversion if other than 'RGB'\n",
    "        if cspace != 'RGB':\n",
    "            if cspace == 'HSV':\n",
    "                feature_image = cv2.cvtColor(image, cv2.COLOR_RGB2HSV)\n",
    "            elif cspace == 'LUV':\n",
    "                feature_image = cv2.cvtColor(image, cv2.COLOR_RGB2LUV)\n",
    "            elif cspace == 'HLS':\n",
    "                feature_image = cv2.cvtColor(image, cv2.COLOR_RGB2HLS)\n",
    "            elif cspace == 'YUV':\n",
    "                feature_image = cv2.cvtColor(image, cv2.COLOR_RGB2YUV)\n",
    "            elif cspace == 'YCrCb':\n",
    "                feature_image = cv2.cvtColor(image, cv2.COLOR_RGB2YCrCb)\n",
    "        else:\n",
    "            feature_image = np.copy(image)\n",
    "\n",
    "        if hog_feat == True:\n",
    "            # Call get_hog_features() with vis=False, feature_vec=True FOR each channel \n",
    "            hog_features = []\n",
    "            for channel in range(feature_image.shape[2]):\n",
    "                hog_features.append(get_hog_features(feature_image[:, :, channel],\n",
    "                                    orient, pix_per_cell, cell_per_block,\n",
    "                                    vis=False, feature_vec=True))\n",
    "            hog_features = np.ravel(hog_features)\n",
    "\n",
    "            # Append the new feature vector to the features list\n",
    "            file_features.append(hog_features)\n",
    "        #features.append(file_features) # in all features Lisr\n",
    "        features.append(np.concatenate(file_features))\n",
    "    # Return list of feature vectors\n",
    "    return features\n"
   ]
  },
  {
   "cell_type": "markdown",
   "metadata": {},
   "source": [
    "# Training"
   ]
  },
  {
   "cell_type": "code",
   "execution_count": null,
   "metadata": {},
   "outputs": [],
   "source": [
    "import time\n",
    "from sklearn.svm import LinearSVC\n",
    "from sklearn.model_selection import train_test_split\n",
    "from sklearn.preprocessing import StandardScaler\n",
    "\n",
    "colorspace = 'YUV'  # Can be RGB, HSV, LUV, HLS, YUV, YCrCb\n",
    "orient = 9  # Length of the vector [ 9 angles ]\n",
    "pix_per_cell = 8  # each cell 8 * 8\n",
    "cell_per_block = 2  # Block 2*2\n",
    "t = time.time()\n",
    "\n",
    "car_features = extract_features(cars, cspace=colorspace, orient=orient,\n",
    "                                pix_per_cell=pix_per_cell, cell_per_block=cell_per_block\n",
    "                                )\n",
    "notcar_features = extract_features(notcars, cspace=colorspace, orient=orient,\n",
    "                                   pix_per_cell=pix_per_cell, cell_per_block=cell_per_block\n",
    "                                   )\n",
    "t2 = time.time()\n",
    "print(round(t2-t, 2), 'Seconds to extract HOG features...')\n",
    "# Create an array stack of feature vectors\n",
    "X = np.vstack((car_features, notcar_features)).astype(np.float64)\n",
    "\n",
    "# Fit a per-column scaler\n",
    "X_scaler = StandardScaler().fit(X)\n",
    "# Apply the scaler to X\n",
    "scaled_X = X_scaler.transform(X)  # Standarization to the features & Scaling\n",
    "\n",
    "# Define the labels vector\n",
    "y = np.hstack((np.ones(len(car_features)), np.zeros(len(notcar_features))))\n",
    "\n",
    "print(len(y))  # THE TARGET [ONES FOR CARS ] , [ZEROS FOR NON CARS ]\n",
    "\n",
    "# Split up data into randomized training and test sets\n",
    "rand_state = np.random.randint(0, 100)\n",
    "X_train, X_test, y_train, y_test = train_test_split(\n",
    "    scaled_X, y, test_size=0.15, random_state=rand_state)  # sikit learn / open cv [16000 pics ]\n",
    "#[0.85 trainig] a5tyar aldata random\n",
    "\n",
    "print('Using:', orient, 'orientations', pix_per_cell,\n",
    "      'pixels per cell and', cell_per_block, 'cells per block')\n",
    "print('Feature vector length:', len(X_train[0]))\n",
    "\n",
    "# Use a linear SVC X_scaler\n",
    "svc = LinearSVC()\n",
    "# Check the training time for the SVC\n",
    "t = time.time()\n",
    "svc.fit(X_train, y_train)\n",
    "t2 = time.time()\n",
    "print(round(t2-t, 2), 'Seconds to train SVC...')\n"
   ]
  },
  {
   "cell_type": "markdown",
   "metadata": {},
   "source": [
    "# Test The Accuracuy"
   ]
  },
  {
   "cell_type": "code",
   "execution_count": null,
   "metadata": {},
   "outputs": [],
   "source": [
    "print('Test Accuracy of SVC = ', round(svc.score(X_test, y_test), 4)) # 4 decimal after point\n",
    "# Check the prediction time for a single sample\n",
    "t=time.time()\n",
    "n_predict = 10\n",
    "print('My SVC predicts: ', svc.predict(X_test[0:n_predict])) ## TEST 10 IMAGES \n",
    "print('For these',n_predict, 'labels: ', y_test[0:n_predict])\n",
    "t2 = time.time()\n",
    "print(round(t2-t, 5), 'Seconds to predict', n_predict,'labels with SVC')"
   ]
  },
  {
   "cell_type": "markdown",
   "metadata": {},
   "source": [
    "# Save The pickle file"
   ]
  },
  {
   "cell_type": "code",
   "execution_count": null,
   "metadata": {},
   "outputs": [],
   "source": [
    "import pickle\n",
    "\n",
    "#Pickle the data as it takes a lot of time to generate it\n",
    "\n",
    "import os\n",
    "data_file = './svc_pickle.p'\n",
    "#pickle.dump(svc, open('svc_pickle.pkl', \"wb\"))\n",
    "if not os.path.isfile(data_file):\n",
    "     with open(data_file, 'wb') as pfile:\n",
    "         pickle.dump(\n",
    "             {\n",
    "                 'svc': svc,\n",
    "                 'scaler': X_scaler,\n",
    "                 'orient': orient,\n",
    "                 'pix_per_cell': pix_per_cell,\n",
    "                 'cell_per_block': cell_per_block,\n",
    "             },\n",
    "             pfile, pickle.HIGHEST_PROTOCOL)\n",
    "\n",
    "print('Data saved in pickle file')\n"
   ]
  }
 ],
 "metadata": {
  "interpreter": {
   "hash": "419871fa7383a3fc43056cd37c0e0faac3b2acb0ab5f12a6771dd72033337bd1"
  },
  "kernelspec": {
   "display_name": "Python 3.9.7 ('base')",
   "language": "python",
   "name": "python3"
  },
  "language_info": {
   "codemirror_mode": {
    "name": "ipython",
    "version": 3
   },
   "file_extension": ".py",
   "mimetype": "text/x-python",
   "name": "python",
   "nbconvert_exporter": "python",
   "pygments_lexer": "ipython3",
   "version": "3.9.7"
  },
  "orig_nbformat": 4
 },
 "nbformat": 4,
 "nbformat_minor": 2
}
