{
  "nbformat": 4,
  "nbformat_minor": 0,
  "metadata": {
    "colab": {
      "name": "Project.ipynb",
      "provenance": [],
      "collapsed_sections": []
    },
    "kernelspec": {
      "name": "python3",
      "display_name": "Python 3"
    },
    "language_info": {
      "name": "python"
    }
  },
  "cells": [
    {
      "cell_type": "code",
      "execution_count": 2,
      "metadata": {
        "id": "OBDCbaiHJtrl"
      },
      "outputs": [],
      "source": [
        "import numpy as np\n",
        "import cv2\n",
        "from google.colab.patches import cv2_imshow #if not using colab delete this line\n",
        "cap = cv2.VideoCapture('/challenge.mp4') #enter the url of the video\n",
        "while(cap.isOpened()):\n",
        "  ret, frame = cap.read() #the frame is like the image\n",
        "  ###################code edge detection ################################\n",
        "  gray = cv2.cvtColor(frame, cv2.COLOR_BGR2GRAY) \n",
        "\n",
        "########################end of code##############################\n",
        "  cv2_imshow(gray) # if not using collab make the function : cv2.imshaow(\"title\",gray)\n",
        "  if cv2.waitKey(1) & 0xFF == ord('q'):\n",
        "    break\n",
        "\n",
        "cap.release()\n",
        "cv2.destroyAllWindows()\n"
      ]
    },
    {
      "cell_type": "code",
      "source": [
        "\n"
      ],
      "metadata": {
        "id": "nf2yzUFaNJBA"
      },
      "execution_count": null,
      "outputs": []
    }
  ]
}